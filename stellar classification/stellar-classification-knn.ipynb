{
 "cells": [
  {
   "cell_type": "markdown",
   "metadata": {
    "slideshow": {
     "slide_type": "slide"
    }
   },
   "source": [
    "<h1 id='stellar-classification'>stellar classification</h1>\n"
   ]
  },
  {
   "cell_type": "markdown",
   "metadata": {},
   "source": [
    "projek ini merupakan tugas akhir semester mata kuliah data sains. pada projek ini saya mengklasifikasikan galaksi, quasar, dan bintang dari data hasil pengamatan luar angkas yang diambil oleh SDSS (Sloan Digital Sky Survey). Data terdiri dari 100000 pengamatan. setiap pengamatan dijelaskan oleh 17 kolom fitur dan 1 kolom kelas yang mengidentifikasi sebagai bintang, galaksi, atau quasar.\n",
    "\n",
    "sumber data : https://www.kaggle.com/datasets/fedesoriano/stellar-classification-dataset-sdss17"
   ]
  },
  {
   "cell_type": "markdown",
   "metadata": {},
   "source": [
    "## import library"
   ]
  },
  {
   "cell_type": "code",
   "execution_count": 1,
   "metadata": {},
   "outputs": [],
   "source": [
    "import pandas as pd\n",
    "import numpy as np\n",
    "import seaborn as sns\n",
    "from matplotlib import pyplot as plt\n",
    "\n",
    "from sklearn.neighbors import KNeighborsClassifier\n",
    "from sklearn.model_selection import train_test_split\n",
    "from sklearn.preprocessing import OrdinalEncoder\n",
    "from sklearn.preprocessing import StandardScaler\n",
    "from sklearn.preprocessing import MinMaxScaler\n",
    "from sklearn.metrics import accuracy_score\n",
    "from sklearn.metrics import confusion_matrix\n",
    "from sklearn.metrics import ConfusionMatrixDisplay\n",
    "from sklearn.metrics import classification_report\n",
    "from sklearn.feature_selection import SelectKBest\n",
    "from sklearn.feature_selection import chi2"
   ]
  },
  {
   "cell_type": "markdown",
   "metadata": {},
   "source": [
    "<h2 id='load-data'>Load Data</h2>"
   ]
  },
  {
   "cell_type": "code",
   "execution_count": 2,
   "metadata": {},
   "outputs": [
    {
     "data": {
      "text/html": [
       "<div>\n",
       "<style scoped>\n",
       "    .dataframe tbody tr th:only-of-type {\n",
       "        vertical-align: middle;\n",
       "    }\n",
       "\n",
       "    .dataframe tbody tr th {\n",
       "        vertical-align: top;\n",
       "    }\n",
       "\n",
       "    .dataframe thead th {\n",
       "        text-align: right;\n",
       "    }\n",
       "</style>\n",
       "<table border=\"1\" class=\"dataframe\">\n",
       "  <thead>\n",
       "    <tr style=\"text-align: right;\">\n",
       "      <th></th>\n",
       "      <th>obj_ID</th>\n",
       "      <th>alpha</th>\n",
       "      <th>delta</th>\n",
       "      <th>u</th>\n",
       "      <th>g</th>\n",
       "      <th>r</th>\n",
       "      <th>i</th>\n",
       "      <th>z</th>\n",
       "      <th>run_ID</th>\n",
       "      <th>rerun_ID</th>\n",
       "      <th>cam_col</th>\n",
       "      <th>field_ID</th>\n",
       "      <th>spec_obj_ID</th>\n",
       "      <th>class</th>\n",
       "      <th>redshift</th>\n",
       "      <th>plate</th>\n",
       "      <th>MJD</th>\n",
       "      <th>fiber_ID</th>\n",
       "    </tr>\n",
       "  </thead>\n",
       "  <tbody>\n",
       "    <tr>\n",
       "      <th>0</th>\n",
       "      <td>1.237661e+18</td>\n",
       "      <td>135.689107</td>\n",
       "      <td>32.494632</td>\n",
       "      <td>23.87882</td>\n",
       "      <td>22.27530</td>\n",
       "      <td>20.39501</td>\n",
       "      <td>19.16573</td>\n",
       "      <td>18.79371</td>\n",
       "      <td>3606</td>\n",
       "      <td>301</td>\n",
       "      <td>2</td>\n",
       "      <td>79</td>\n",
       "      <td>6.543777e+18</td>\n",
       "      <td>GALAXY</td>\n",
       "      <td>0.634794</td>\n",
       "      <td>5812</td>\n",
       "      <td>56354</td>\n",
       "      <td>171</td>\n",
       "    </tr>\n",
       "    <tr>\n",
       "      <th>1</th>\n",
       "      <td>1.237665e+18</td>\n",
       "      <td>144.826101</td>\n",
       "      <td>31.274185</td>\n",
       "      <td>24.77759</td>\n",
       "      <td>22.83188</td>\n",
       "      <td>22.58444</td>\n",
       "      <td>21.16812</td>\n",
       "      <td>21.61427</td>\n",
       "      <td>4518</td>\n",
       "      <td>301</td>\n",
       "      <td>5</td>\n",
       "      <td>119</td>\n",
       "      <td>1.176014e+19</td>\n",
       "      <td>GALAXY</td>\n",
       "      <td>0.779136</td>\n",
       "      <td>10445</td>\n",
       "      <td>58158</td>\n",
       "      <td>427</td>\n",
       "    </tr>\n",
       "    <tr>\n",
       "      <th>2</th>\n",
       "      <td>1.237661e+18</td>\n",
       "      <td>142.188790</td>\n",
       "      <td>35.582444</td>\n",
       "      <td>25.26307</td>\n",
       "      <td>22.66389</td>\n",
       "      <td>20.60976</td>\n",
       "      <td>19.34857</td>\n",
       "      <td>18.94827</td>\n",
       "      <td>3606</td>\n",
       "      <td>301</td>\n",
       "      <td>2</td>\n",
       "      <td>120</td>\n",
       "      <td>5.152200e+18</td>\n",
       "      <td>GALAXY</td>\n",
       "      <td>0.644195</td>\n",
       "      <td>4576</td>\n",
       "      <td>55592</td>\n",
       "      <td>299</td>\n",
       "    </tr>\n",
       "    <tr>\n",
       "      <th>3</th>\n",
       "      <td>1.237663e+18</td>\n",
       "      <td>338.741038</td>\n",
       "      <td>-0.402828</td>\n",
       "      <td>22.13682</td>\n",
       "      <td>23.77656</td>\n",
       "      <td>21.61162</td>\n",
       "      <td>20.50454</td>\n",
       "      <td>19.25010</td>\n",
       "      <td>4192</td>\n",
       "      <td>301</td>\n",
       "      <td>3</td>\n",
       "      <td>214</td>\n",
       "      <td>1.030107e+19</td>\n",
       "      <td>GALAXY</td>\n",
       "      <td>0.932346</td>\n",
       "      <td>9149</td>\n",
       "      <td>58039</td>\n",
       "      <td>775</td>\n",
       "    </tr>\n",
       "    <tr>\n",
       "      <th>4</th>\n",
       "      <td>1.237680e+18</td>\n",
       "      <td>345.282593</td>\n",
       "      <td>21.183866</td>\n",
       "      <td>19.43718</td>\n",
       "      <td>17.58028</td>\n",
       "      <td>16.49747</td>\n",
       "      <td>15.97711</td>\n",
       "      <td>15.54461</td>\n",
       "      <td>8102</td>\n",
       "      <td>301</td>\n",
       "      <td>3</td>\n",
       "      <td>137</td>\n",
       "      <td>6.891865e+18</td>\n",
       "      <td>GALAXY</td>\n",
       "      <td>0.116123</td>\n",
       "      <td>6121</td>\n",
       "      <td>56187</td>\n",
       "      <td>842</td>\n",
       "    </tr>\n",
       "  </tbody>\n",
       "</table>\n",
       "</div>"
      ],
      "text/plain": [
       "         obj_ID       alpha      delta         u         g         r  \\\n",
       "0  1.237661e+18  135.689107  32.494632  23.87882  22.27530  20.39501   \n",
       "1  1.237665e+18  144.826101  31.274185  24.77759  22.83188  22.58444   \n",
       "2  1.237661e+18  142.188790  35.582444  25.26307  22.66389  20.60976   \n",
       "3  1.237663e+18  338.741038  -0.402828  22.13682  23.77656  21.61162   \n",
       "4  1.237680e+18  345.282593  21.183866  19.43718  17.58028  16.49747   \n",
       "\n",
       "          i         z  run_ID  rerun_ID  cam_col  field_ID   spec_obj_ID  \\\n",
       "0  19.16573  18.79371    3606       301        2        79  6.543777e+18   \n",
       "1  21.16812  21.61427    4518       301        5       119  1.176014e+19   \n",
       "2  19.34857  18.94827    3606       301        2       120  5.152200e+18   \n",
       "3  20.50454  19.25010    4192       301        3       214  1.030107e+19   \n",
       "4  15.97711  15.54461    8102       301        3       137  6.891865e+18   \n",
       "\n",
       "    class  redshift  plate    MJD  fiber_ID  \n",
       "0  GALAXY  0.634794   5812  56354       171  \n",
       "1  GALAXY  0.779136  10445  58158       427  \n",
       "2  GALAXY  0.644195   4576  55592       299  \n",
       "3  GALAXY  0.932346   9149  58039       775  \n",
       "4  GALAXY  0.116123   6121  56187       842  "
      ]
     },
     "execution_count": 2,
     "metadata": {},
     "output_type": "execute_result"
    }
   ],
   "source": [
    "df = pd.read_csv('star_classification.csv')\n",
    "df.head()"
   ]
  },
  {
   "cell_type": "markdown",
   "metadata": {},
   "source": [
    "<h2 id='EDA'>Exploratory Data Analysis</h2>"
   ]
  },
  {
   "cell_type": "code",
   "execution_count": 3,
   "metadata": {},
   "outputs": [
    {
     "name": "stdout",
     "output_type": "stream",
     "text": [
      "<class 'pandas.core.frame.DataFrame'>\n",
      "RangeIndex: 100000 entries, 0 to 99999\n",
      "Data columns (total 18 columns):\n",
      " #   Column       Non-Null Count   Dtype  \n",
      "---  ------       --------------   -----  \n",
      " 0   obj_ID       100000 non-null  float64\n",
      " 1   alpha        100000 non-null  float64\n",
      " 2   delta        100000 non-null  float64\n",
      " 3   u            100000 non-null  float64\n",
      " 4   g            100000 non-null  float64\n",
      " 5   r            100000 non-null  float64\n",
      " 6   i            100000 non-null  float64\n",
      " 7   z            100000 non-null  float64\n",
      " 8   run_ID       100000 non-null  int64  \n",
      " 9   rerun_ID     100000 non-null  int64  \n",
      " 10  cam_col      100000 non-null  int64  \n",
      " 11  field_ID     100000 non-null  int64  \n",
      " 12  spec_obj_ID  100000 non-null  float64\n",
      " 13  class        100000 non-null  object \n",
      " 14  redshift     100000 non-null  float64\n",
      " 15  plate        100000 non-null  int64  \n",
      " 16  MJD          100000 non-null  int64  \n",
      " 17  fiber_ID     100000 non-null  int64  \n",
      "dtypes: float64(10), int64(7), object(1)\n",
      "memory usage: 13.7+ MB\n"
     ]
    }
   ],
   "source": [
    "df.info()"
   ]
  },
  {
   "cell_type": "code",
   "execution_count": 4,
   "metadata": {},
   "outputs": [
    {
     "data": {
      "text/plain": [
       "(0, 18)"
      ]
     },
     "execution_count": 4,
     "metadata": {},
     "output_type": "execute_result"
    }
   ],
   "source": [
    "# cek apakah ada data yang duplikat\n",
    "duplicated_rows = df[df.duplicated()]\n",
    "duplicated_rows.shape"
   ]
  },
  {
   "cell_type": "code",
   "execution_count": 5,
   "metadata": {},
   "outputs": [
    {
     "data": {
      "text/plain": [
       "obj_ID         0\n",
       "alpha          0\n",
       "delta          0\n",
       "u              0\n",
       "g              0\n",
       "r              0\n",
       "i              0\n",
       "z              0\n",
       "run_ID         0\n",
       "rerun_ID       0\n",
       "cam_col        0\n",
       "field_ID       0\n",
       "spec_obj_ID    0\n",
       "class          0\n",
       "redshift       0\n",
       "plate          0\n",
       "MJD            0\n",
       "fiber_ID       0\n",
       "dtype: int64"
      ]
     },
     "execution_count": 5,
     "metadata": {},
     "output_type": "execute_result"
    }
   ],
   "source": [
    "# cek apakah ada missing value atau data yang kosong\n",
    "df.isna().sum()"
   ]
  },
  {
   "cell_type": "code",
   "execution_count": 6,
   "metadata": {},
   "outputs": [
    {
     "data": {
      "text/plain": [
       "obj_ID         float64\n",
       "alpha          float64\n",
       "delta          float64\n",
       "u              float64\n",
       "g              float64\n",
       "r              float64\n",
       "i              float64\n",
       "z              float64\n",
       "run_ID           int64\n",
       "rerun_ID         int64\n",
       "cam_col          int64\n",
       "field_ID         int64\n",
       "spec_obj_ID    float64\n",
       "class           object\n",
       "redshift       float64\n",
       "plate            int64\n",
       "MJD              int64\n",
       "fiber_ID         int64\n",
       "dtype: object"
      ]
     },
     "execution_count": 6,
     "metadata": {},
     "output_type": "execute_result"
    }
   ],
   "source": [
    "# tipe data\n",
    "df.dtypes"
   ]
  },
  {
   "cell_type": "code",
   "execution_count": 7,
   "metadata": {},
   "outputs": [],
   "source": [
    "enc = OrdinalEncoder()\n",
    "df['class'] = enc.fit_transform(df[['class']])\n"
   ]
  },
  {
   "cell_type": "markdown",
   "metadata": {},
   "source": [
    "### Outlier"
   ]
  },
  {
   "cell_type": "code",
   "execution_count": 11,
   "metadata": {
    "scrolled": false
   },
   "outputs": [
    {
     "name": "stdout",
     "output_type": "stream",
     "text": [
      "obj_ID\n"
     ]
    },
    {
     "data": {
      "image/png": "[encoded data removed]",
      "text/plain": [
       "<Figure size 432x288 with 1 Axes>"
      ]
     },
     "metadata": {
      "needs_background": "light"
     },
     "output_type": "display_data"
    },
    {
     "name": "stdout",
     "output_type": "stream",
     "text": [
      "alpha\n"
     ]
    },
    {
     "data": {
      "image/png": "[encoded data removed]",
      "text/plain": [
       "<Figure size 432x288 with 1 Axes>"
      ]
     },
     "metadata": {
      "needs_background": "light"
     },
     "output_type": "display_data"
    },
    {
     "name": "stdout",
     "output_type": "stream",
     "text": [
      "delta\n"
     ]
    },
    {
     "data": {
      "image/png": "[encoded data removed]",
      "text/plain": [
       "<Figure size 432x288 with 1 Axes>"
      ]
     },
     "metadata": {
      "needs_background": "light"
     },
     "output_type": "display_data"
    },
    {
     "name": "stdout",
     "output_type": "stream",
     "text": [
      "u\n"
     ]
    },
    {
     "data": {
      "image/png": "[encoded data removed]",
      "text/plain": [
       "<Figure size 432x288 with 1 Axes>"
      ]
     },
     "metadata": {
      "needs_background": "light"
     },
     "output_type": "display_data"
    },
    {
     "name": "stdout",
     "output_type": "stream",
     "text": [
      "g\n"
     ]
    },
    {
     "data": {
      "image/png": "[encoded data removed]",
      "text/plain": [
       "<Figure size 432x288 with 1 Axes>"
      ]
     },
     "metadata": {
      "needs_background": "light"
     },
     "output_type": "display_data"
    },
    {
     "name": "stdout",
     "output_type": "stream",
     "text": [
      "r\n"
     ]
    },
    {
     "data": {
      "image/png": "[encoded data removed]",
      "text/plain": [
       "<Figure size 432x288 with 1 Axes>"
      ]
     },
     "metadata": {
      "needs_background": "light"
     },
     "output_type": "display_data"
    },
    {
     "name": "stdout",
     "output_type": "stream",
     "text": [
      "i\n"
     ]
    },
    {
     "data": {
      "image/png": "[encoded data removed]",
      "text/plain": [
       "<Figure size 432x288 with 1 Axes>"
      ]
     },
     "metadata": {
      "needs_background": "light"
     },
     "output_type": "display_data"
    },
    {
     "name": "stdout",
     "output_type": "stream",
     "text": [
      "z\n"
     ]
    },
    {
     "data": {
      "image/png": "[encoded data removed]",
      "text/plain": [
       "<Figure size 432x288 with 1 Axes>"
      ]
     },
     "metadata": {
      "needs_background": "light"
     },
     "output_type": "display_data"
    },
    {
     "name": "stdout",
     "output_type": "stream",
     "text": [
      "run_ID\n"
     ]
    },
    {
     "data": {
      "image/png": "[encoded data removed]",
      "text/plain": [
       "<Figure size 432x288 with 1 Axes>"
      ]
     },
     "metadata": {
      "needs_background": "light"
     },
     "output_type": "display_data"
    },
    {
     "name": "stdout",
     "output_type": "stream",
     "text": [
      "rerun_ID\n"
     ]
    },
    {
     "data": {
      "image/png": "[encoded data removed]",
      "text/plain": [
       "<Figure size 432x288 with 1 Axes>"
      ]
     },
     "metadata": {
      "needs_background": "light"
     },
     "output_type": "display_data"
    },
    {
     "name": "stdout",
     "output_type": "stream",
     "text": [
      "cam_col\n"
     ]
    },
    {
     "data": {
      "image/png": "[encoded data removed]",
      "text/plain": [
       "<Figure size 432x288 with 1 Axes>"
      ]
     },
     "metadata": {
      "needs_background": "light"
     },
     "output_type": "display_data"
    },
    {
     "name": "stdout",
     "output_type": "stream",
     "text": [
      "field_ID\n"
     ]
    },
    {
     "data": {
      "image/png": "[encoded data removed]",
      "text/plain": [
       "<Figure size 432x288 with 1 Axes>"
      ]
     },
     "metadata": {
      "needs_background": "light"
     },
     "output_type": "display_data"
    },
    {
     "name": "stdout",
     "output_type": "stream",
     "text": [
      "spec_obj_ID\n"
     ]
    },
    {
     "data": {
      "image/png": "[encoded data removed]",
      "text/plain": [
       "<Figure size 432x288 with 1 Axes>"
      ]
     },
     "metadata": {
      "needs_background": "light"
     },
     "output_type": "display_data"
    },
    {
     "name": "stdout",
     "output_type": "stream",
     "text": [
      "class\n"
     ]
    },
    {
     "data": {
      "image/png": "[encoded data removed]",
      "text/plain": [
       "<Figure size 432x288 with 1 Axes>"
      ]
     },
     "metadata": {
      "needs_background": "light"
     },
     "output_type": "display_data"
    },
    {
     "name": "stdout",
     "output_type": "stream",
     "text": [
      "redshift\n"
     ]
    },
    {
     "data": {
      "image/png": "[encoded data removed]",
      "text/plain": [
       "<Figure size 432x288 with 1 Axes>"
      ]
     },
     "metadata": {
      "needs_background": "light"
     },
     "output_type": "display_data"
    },
    {
     "name": "stdout",
     "output_type": "stream",
     "text": [
      "plate\n"
     ]
    },
    {
     "data": {
      "image/png": "[encoded data removed]",
      "text/plain": [
       "<Figure size 432x288 with 1 Axes>"
      ]
     },
     "metadata": {
      "needs_background": "light"
     },
     "output_type": "display_data"
    },
    {
     "name": "stdout",
     "output_type": "stream",
     "text": [
      "MJD\n"
     ]
    },
    {
     "data": {
      "image/png": "[encoded data removed]",
      "text/plain": [
       "<Figure size 432x288 with 1 Axes>"
      ]
     },
     "metadata": {
      "needs_background": "light"
     },
     "output_type": "display_data"
    },
    {
     "name": "stdout",
     "output_type": "stream",
     "text": [
      "fiber_ID\n"
     ]
    },
    {
     "data": {
      "image/png": "[encoded data removed]",
      "text/plain": [
       "<Figure size 432x288 with 1 Axes>"
      ]
     },
     "metadata": {
      "needs_background": "light"
     },
     "output_type": "display_data"
    }
   ],
   "source": [
    "# cek data outlier\n",
    "for i in range(len(df.columns)):\n",
    "    sns.boxplot(x=df[df.columns[i]])\n",
    "    print(df.columns[i])\n",
    "    plt.show()"
   ]
  },
  {
   "cell_type": "code",
   "execution_count": 12,
   "metadata": {},
   "outputs": [],
   "source": [
    "# fungsi untuk mengganti data outlier dengan nilai percentil ke-90 atau ke-10\n",
    "def outlier(data):\n",
    "    for feature in data.columns:\n",
    "        q1 = np.quantile(data[feature], .25)\n",
    "        q3 = np.quantile(data[feature], .75)\n",
    "        \n",
    "        p1 = np.quantile(data[feature], .1)\n",
    "        p9 = np.quantile(data[feature], .9)\n",
    "        \n",
    "        iqr = q3 - q1\n",
    "        \n",
    "        min_iqr = q1 - iqr*1.5\n",
    "        max_iqr = q3 + iqr*1.5\n",
    "        \n",
    "        for row in data.index:\n",
    "            if data.loc[row, feature] < min_iqr:\n",
    "                 data.loc[row, feature] = p1\n",
    "            elif  data.loc[row, feature] > max_iqr:\n",
    "                 data.loc[row, feature] = p9\n",
    "                "
   ]
  },
  {
   "cell_type": "code",
   "execution_count": 12,
   "metadata": {},
   "outputs": [],
   "source": [
    "df_clean = df.copy()"
   ]
  },
  {
   "cell_type": "code",
   "execution_count": 13,
   "metadata": {},
   "outputs": [],
   "source": [
    "outlier(data=df)"
   ]
  },
  {
   "cell_type": "code",
   "execution_count": 14,
   "metadata": {
    "scrolled": false
   },
   "outputs": [
    {
     "name": "stdout",
     "output_type": "stream",
     "text": [
      "obj_ID\n"
     ]
    },
    {
     "data": {
      "image/png": "[encoded data removed]",
      "text/plain": [
       "<Figure size 432x288 with 1 Axes>"
      ]
     },
     "metadata": {
      "needs_background": "light"
     },
     "output_type": "display_data"
    },
    {
     "name": "stdout",
     "output_type": "stream",
     "text": [
      "alpha\n"
     ]
    },
    {
     "data": {
      "image/png": "[encoded data removed]",
      "text/plain": [
       "<Figure size 432x288 with 1 Axes>"
      ]
     },
     "metadata": {
      "needs_background": "light"
     },
     "output_type": "display_data"
    },
    {
     "name": "stdout",
     "output_type": "stream",
     "text": [
      "delta\n"
     ]
    },
    {
     "data": {
      "image/png": "[encoded data removed]",
      "text/plain": [
       "<Figure size 432x288 with 1 Axes>"
      ]
     },
     "metadata": {
      "needs_background": "light"
     },
     "output_type": "display_data"
    },
    {
     "name": "stdout",
     "output_type": "stream",
     "text": [
      "u\n"
     ]
    },
    {
     "data": {
      "image/png": "[encoded data removed]",
      "text/plain": [
       "<Figure size 432x288 with 1 Axes>"
      ]
     },
     "metadata": {
      "needs_background": "light"
     },
     "output_type": "display_data"
    },
    {
     "name": "stdout",
     "output_type": "stream",
     "text": [
      "g\n"
     ]
    },
    {
     "data": {
      "image/png": "[encoded data removed]",
      "text/plain": [
       "<Figure size 432x288 with 1 Axes>"
      ]
     },
     "metadata": {
      "needs_background": "light"
     },
     "output_type": "display_data"
    },
    {
     "name": "stdout",
     "output_type": "stream",
     "text": [
      "r\n"
     ]
    },
    {
     "data": {
      "image/png": "[encoded data removed]",
      "text/plain": [
       "<Figure size 432x288 with 1 Axes>"
      ]
     },
     "metadata": {
      "needs_background": "light"
     },
     "output_type": "display_data"
    },
    {
     "name": "stdout",
     "output_type": "stream",
     "text": [
      "i\n"
     ]
    },
    {
     "data": {
      "image/png": "[encoded data removed]",
      "text/plain": [
       "<Figure size 432x288 with 1 Axes>"
      ]
     },
     "metadata": {
      "needs_background": "light"
     },
     "output_type": "display_data"
    },
    {
     "name": "stdout",
     "output_type": "stream",
     "text": [
      "z\n"
     ]
    },
    {
     "data": {
      "image/png": "[encoded data removed]",
      "text/plain": [
       "<Figure size 432x288 with 1 Axes>"
      ]
     },
     "metadata": {
      "needs_background": "light"
     },
     "output_type": "display_data"
    },
    {
     "name": "stdout",
     "output_type": "stream",
     "text": [
      "run_ID\n"
     ]
    },
    {
     "data": {
      "image/png": "[encoded data removed]",
      "text/plain": [
       "<Figure size 432x288 with 1 Axes>"
      ]
     },
     "metadata": {
      "needs_background": "light"
     },
     "output_type": "display_data"
    },
    {
     "name": "stdout",
     "output_type": "stream",
     "text": [
      "rerun_ID\n"
     ]
    },
    {
     "data": {
      "image/png": "[encoded data removed]",
      "text/plain": [
       "<Figure size 432x288 with 1 Axes>"
      ]
     },
     "metadata": {
      "needs_background": "light"
     },
     "output_type": "display_data"
    },
    {
     "name": "stdout",
     "output_type": "stream",
     "text": [
      "cam_col\n"
     ]
    },
    {
     "data": {
      "image/png": "[encoded data removed]",
      "text/plain": [
       "<Figure size 432x288 with 1 Axes>"
      ]
     },
     "metadata": {
      "needs_background": "light"
     },
     "output_type": "display_data"
    },
    {
     "name": "stdout",
     "output_type": "stream",
     "text": [
      "field_ID\n"
     ]
    },
    {
     "data": {
      "image/png": "[encoded data removed]",
      "text/plain": [
       "<Figure size 432x288 with 1 Axes>"
      ]
     },
     "metadata": {
      "needs_background": "light"
     },
     "output_type": "display_data"
    },
    {
     "name": "stdout",
     "output_type": "stream",
     "text": [
      "spec_obj_ID\n"
     ]
    },
    {
     "data": {
      "image/png": "[encoded data removed]",
      "text/plain": [
       "<Figure size 432x288 with 1 Axes>"
      ]
     },
     "metadata": {
      "needs_background": "light"
     },
     "output_type": "display_data"
    },
    {
     "name": "stdout",
     "output_type": "stream",
     "text": [
      "class\n"
     ]
    },
    {
     "data": {
      "image/png": "[encoded data removed]",
      "text/plain": [
       "<Figure size 432x288 with 1 Axes>"
      ]
     },
     "metadata": {
      "needs_background": "light"
     },
     "output_type": "display_data"
    },
    {
     "name": "stdout",
     "output_type": "stream",
     "text": [
      "redshift\n"
     ]
    },
    {
     "data": {
      "image/png": "[encoded data removed]",
      "text/plain": [
       "<Figure size 432x288 with 1 Axes>"
      ]
     },
     "metadata": {
      "needs_background": "light"
     },
     "output_type": "display_data"
    },
    {
     "name": "stdout",
     "output_type": "stream",
     "text": [
      "plate\n"
     ]
    },
    {
     "data": {
      "image/png": "[encoded data removed]",
      "text/plain": [
       "<Figure size 432x288 with 1 Axes>"
      ]
     },
     "metadata": {
      "needs_background": "light"
     },
     "output_type": "display_data"
    },
    {
     "name": "stdout",
     "output_type": "stream",
     "text": [
      "MJD\n"
     ]
    },
    {
     "data": {
      "image/png": "[encoded data removed]",
      "text/plain": [
       "<Figure size 432x288 with 1 Axes>"
      ]
     },
     "metadata": {
      "needs_background": "light"
     },
     "output_type": "display_data"
    },
    {
     "name": "stdout",
     "output_type": "stream",
     "text": [
      "fiber_ID\n"
     ]
    },
    {
     "data": {
      "image/png": "[encoded data removed]",
      "text/plain": [
       "<Figure size 432x288 with 1 Axes>"
      ]
     },
     "metadata": {
      "needs_background": "light"
     },
     "output_type": "display_data"
    }
   ],
   "source": [
    "for i in range(len(df.columns)):\n",
    "    sns.boxplot(x=df[df.columns[i]])\n",
    "    print(df.columns[i])\n",
    "    plt.show()"
   ]
  },
  {
   "cell_type": "markdown",
   "metadata": {},
   "source": [
    "## data normalization"
   ]
  },
  {
   "cell_type": "code",
   "execution_count": 16,
   "metadata": {},
   "outputs": [],
   "source": [
    "X = df.drop(columns=['class'])\n",
    "y = df.loc[:, ['class']]"
   ]
  },
  {
   "cell_type": "code",
   "execution_count": 17,
   "metadata": {},
   "outputs": [
    {
     "data": {
      "text/html": [
       "<div>\n",
       "<style scoped>\n",
       "    .dataframe tbody tr th:only-of-type {\n",
       "        vertical-align: middle;\n",
       "    }\n",
       "\n",
       "    .dataframe tbody tr th {\n",
       "        vertical-align: top;\n",
       "    }\n",
       "\n",
       "    .dataframe thead th {\n",
       "        text-align: right;\n",
       "    }\n",
       "</style>\n",
       "<table border=\"1\" class=\"dataframe\">\n",
       "  <thead>\n",
       "    <tr style=\"text-align: right;\">\n",
       "      <th></th>\n",
       "      <th>obj_ID</th>\n",
       "      <th>alpha</th>\n",
       "      <th>delta</th>\n",
       "      <th>u</th>\n",
       "      <th>g</th>\n",
       "      <th>r</th>\n",
       "      <th>i</th>\n",
       "      <th>z</th>\n",
       "      <th>run_ID</th>\n",
       "      <th>rerun_ID</th>\n",
       "      <th>cam_col</th>\n",
       "      <th>field_ID</th>\n",
       "      <th>spec_obj_ID</th>\n",
       "      <th>redshift</th>\n",
       "      <th>plate</th>\n",
       "      <th>MJD</th>\n",
       "      <th>fiber_ID</th>\n",
       "    </tr>\n",
       "  </thead>\n",
       "  <tbody>\n",
       "    <tr>\n",
       "      <th>0</th>\n",
       "      <td>1.237661e+18</td>\n",
       "      <td>135.689107</td>\n",
       "      <td>32.494632</td>\n",
       "      <td>23.87882</td>\n",
       "      <td>22.27530</td>\n",
       "      <td>20.39501</td>\n",
       "      <td>19.16573</td>\n",
       "      <td>18.79371</td>\n",
       "      <td>3606</td>\n",
       "      <td>301</td>\n",
       "      <td>2</td>\n",
       "      <td>79</td>\n",
       "      <td>6.543777e+18</td>\n",
       "      <td>0.634794</td>\n",
       "      <td>5812</td>\n",
       "      <td>56354</td>\n",
       "      <td>171</td>\n",
       "    </tr>\n",
       "    <tr>\n",
       "      <th>1</th>\n",
       "      <td>1.237665e+18</td>\n",
       "      <td>144.826101</td>\n",
       "      <td>31.274185</td>\n",
       "      <td>24.77759</td>\n",
       "      <td>22.83188</td>\n",
       "      <td>22.58444</td>\n",
       "      <td>21.16812</td>\n",
       "      <td>21.61427</td>\n",
       "      <td>4518</td>\n",
       "      <td>301</td>\n",
       "      <td>5</td>\n",
       "      <td>119</td>\n",
       "      <td>1.176014e+19</td>\n",
       "      <td>0.779136</td>\n",
       "      <td>10445</td>\n",
       "      <td>58158</td>\n",
       "      <td>427</td>\n",
       "    </tr>\n",
       "    <tr>\n",
       "      <th>2</th>\n",
       "      <td>1.237661e+18</td>\n",
       "      <td>142.188790</td>\n",
       "      <td>35.582444</td>\n",
       "      <td>25.26307</td>\n",
       "      <td>22.66389</td>\n",
       "      <td>20.60976</td>\n",
       "      <td>19.34857</td>\n",
       "      <td>18.94827</td>\n",
       "      <td>3606</td>\n",
       "      <td>301</td>\n",
       "      <td>2</td>\n",
       "      <td>120</td>\n",
       "      <td>5.152200e+18</td>\n",
       "      <td>0.644195</td>\n",
       "      <td>4576</td>\n",
       "      <td>55592</td>\n",
       "      <td>299</td>\n",
       "    </tr>\n",
       "    <tr>\n",
       "      <th>3</th>\n",
       "      <td>1.237663e+18</td>\n",
       "      <td>338.741038</td>\n",
       "      <td>-0.402828</td>\n",
       "      <td>22.13682</td>\n",
       "      <td>23.77656</td>\n",
       "      <td>21.61162</td>\n",
       "      <td>20.50454</td>\n",
       "      <td>19.25010</td>\n",
       "      <td>4192</td>\n",
       "      <td>301</td>\n",
       "      <td>3</td>\n",
       "      <td>214</td>\n",
       "      <td>1.030107e+19</td>\n",
       "      <td>0.932346</td>\n",
       "      <td>9149</td>\n",
       "      <td>58039</td>\n",
       "      <td>775</td>\n",
       "    </tr>\n",
       "    <tr>\n",
       "      <th>4</th>\n",
       "      <td>1.237680e+18</td>\n",
       "      <td>345.282593</td>\n",
       "      <td>21.183866</td>\n",
       "      <td>19.43718</td>\n",
       "      <td>17.58028</td>\n",
       "      <td>16.49747</td>\n",
       "      <td>15.97711</td>\n",
       "      <td>15.54461</td>\n",
       "      <td>8102</td>\n",
       "      <td>301</td>\n",
       "      <td>3</td>\n",
       "      <td>137</td>\n",
       "      <td>6.891865e+18</td>\n",
       "      <td>0.116123</td>\n",
       "      <td>6121</td>\n",
       "      <td>56187</td>\n",
       "      <td>842</td>\n",
       "    </tr>\n",
       "  </tbody>\n",
       "</table>\n",
       "</div>"
      ],
      "text/plain": [
       "         obj_ID       alpha      delta         u         g         r  \\\n",
       "0  1.237661e+18  135.689107  32.494632  23.87882  22.27530  20.39501   \n",
       "1  1.237665e+18  144.826101  31.274185  24.77759  22.83188  22.58444   \n",
       "2  1.237661e+18  142.188790  35.582444  25.26307  22.66389  20.60976   \n",
       "3  1.237663e+18  338.741038  -0.402828  22.13682  23.77656  21.61162   \n",
       "4  1.237680e+18  345.282593  21.183866  19.43718  17.58028  16.49747   \n",
       "\n",
       "          i         z  run_ID  rerun_ID  cam_col  field_ID   spec_obj_ID  \\\n",
       "0  19.16573  18.79371    3606       301        2        79  6.543777e+18   \n",
       "1  21.16812  21.61427    4518       301        5       119  1.176014e+19   \n",
       "2  19.34857  18.94827    3606       301        2       120  5.152200e+18   \n",
       "3  20.50454  19.25010    4192       301        3       214  1.030107e+19   \n",
       "4  15.97711  15.54461    8102       301        3       137  6.891865e+18   \n",
       "\n",
       "   redshift  plate    MJD  fiber_ID  \n",
       "0  0.634794   5812  56354       171  \n",
       "1  0.779136  10445  58158       427  \n",
       "2  0.644195   4576  55592       299  \n",
       "3  0.932346   9149  58039       775  \n",
       "4  0.116123   6121  56187       842  "
      ]
     },
     "execution_count": 17,
     "metadata": {},
     "output_type": "execute_result"
    }
   ],
   "source": [
    "X.head()"
   ]
  },
  {
   "cell_type": "code",
   "execution_count": 18,
   "metadata": {},
   "outputs": [
    {
     "data": {
      "text/html": [
       "<div>\n",
       "<style scoped>\n",
       "    .dataframe tbody tr th:only-of-type {\n",
       "        vertical-align: middle;\n",
       "    }\n",
       "\n",
       "    .dataframe tbody tr th {\n",
       "        vertical-align: top;\n",
       "    }\n",
       "\n",
       "    .dataframe thead th {\n",
       "        text-align: right;\n",
       "    }\n",
       "</style>\n",
       "<table border=\"1\" class=\"dataframe\">\n",
       "  <thead>\n",
       "    <tr style=\"text-align: right;\">\n",
       "      <th></th>\n",
       "      <th>class</th>\n",
       "    </tr>\n",
       "  </thead>\n",
       "  <tbody>\n",
       "    <tr>\n",
       "      <th>0</th>\n",
       "      <td>0.0</td>\n",
       "    </tr>\n",
       "    <tr>\n",
       "      <th>1</th>\n",
       "      <td>0.0</td>\n",
       "    </tr>\n",
       "    <tr>\n",
       "      <th>2</th>\n",
       "      <td>0.0</td>\n",
       "    </tr>\n",
       "    <tr>\n",
       "      <th>3</th>\n",
       "      <td>0.0</td>\n",
       "    </tr>\n",
       "    <tr>\n",
       "      <th>4</th>\n",
       "      <td>0.0</td>\n",
       "    </tr>\n",
       "  </tbody>\n",
       "</table>\n",
       "</div>"
      ],
      "text/plain": [
       "   class\n",
       "0    0.0\n",
       "1    0.0\n",
       "2    0.0\n",
       "3    0.0\n",
       "4    0.0"
      ]
     },
     "execution_count": 18,
     "metadata": {},
     "output_type": "execute_result"
    }
   ],
   "source": [
    "y.head()"
   ]
  },
  {
   "cell_type": "markdown",
   "metadata": {},
   "source": [
    "### Min-Max Scaler"
   ]
  },
  {
   "cell_type": "markdown",
   "metadata": {},
   "source": [
    "data yang di normalisasi menggunakan min-max scaler untuk digunakan dalam pemilihan fitur"
   ]
  },
  {
   "cell_type": "code",
   "execution_count": 19,
   "metadata": {},
   "outputs": [
    {
     "data": {
      "text/html": [
       "<div>\n",
       "<style scoped>\n",
       "    .dataframe tbody tr th:only-of-type {\n",
       "        vertical-align: middle;\n",
       "    }\n",
       "\n",
       "    .dataframe tbody tr th {\n",
       "        vertical-align: top;\n",
       "    }\n",
       "\n",
       "    .dataframe thead th {\n",
       "        text-align: right;\n",
       "    }\n",
       "</style>\n",
       "<table border=\"1\" class=\"dataframe\">\n",
       "  <thead>\n",
       "    <tr style=\"text-align: right;\">\n",
       "      <th></th>\n",
       "      <th>obj_ID</th>\n",
       "      <th>alpha</th>\n",
       "      <th>delta</th>\n",
       "      <th>u</th>\n",
       "      <th>g</th>\n",
       "      <th>r</th>\n",
       "      <th>i</th>\n",
       "      <th>z</th>\n",
       "      <th>run_ID</th>\n",
       "      <th>rerun_ID</th>\n",
       "      <th>cam_col</th>\n",
       "      <th>field_ID</th>\n",
       "      <th>spec_obj_ID</th>\n",
       "      <th>redshift</th>\n",
       "      <th>plate</th>\n",
       "      <th>MJD</th>\n",
       "      <th>fiber_ID</th>\n",
       "    </tr>\n",
       "  </thead>\n",
       "  <tbody>\n",
       "    <tr>\n",
       "      <th>0</th>\n",
       "      <td>0.434203</td>\n",
       "      <td>0.376905</td>\n",
       "      <td>0.503802</td>\n",
       "      <td>0.642678</td>\n",
       "      <td>0.638802</td>\n",
       "      <td>0.570554</td>\n",
       "      <td>0.509751</td>\n",
       "      <td>0.510806</td>\n",
       "      <td>0.434248</td>\n",
       "      <td>0.0</td>\n",
       "      <td>0.2</td>\n",
       "      <td>0.145299</td>\n",
       "      <td>0.451585</td>\n",
       "      <td>0.381862</td>\n",
       "      <td>0.451592</td>\n",
       "      <td>0.648007</td>\n",
       "      <td>0.170170</td>\n",
       "    </tr>\n",
       "    <tr>\n",
       "      <th>1</th>\n",
       "      <td>0.547496</td>\n",
       "      <td>0.402286</td>\n",
       "      <td>0.491812</td>\n",
       "      <td>0.710434</td>\n",
       "      <td>0.683063</td>\n",
       "      <td>0.759271</td>\n",
       "      <td>0.697750</td>\n",
       "      <td>0.797847</td>\n",
       "      <td>0.547498</td>\n",
       "      <td>0.0</td>\n",
       "      <td>0.8</td>\n",
       "      <td>0.230769</td>\n",
       "      <td>0.828833</td>\n",
       "      <td>0.467349</td>\n",
       "      <td>0.828841</td>\n",
       "      <td>0.894320</td>\n",
       "      <td>0.426426</td>\n",
       "    </tr>\n",
       "    <tr>\n",
       "      <th>2</th>\n",
       "      <td>0.434203</td>\n",
       "      <td>0.394960</td>\n",
       "      <td>0.534139</td>\n",
       "      <td>0.747032</td>\n",
       "      <td>0.669704</td>\n",
       "      <td>0.589065</td>\n",
       "      <td>0.526918</td>\n",
       "      <td>0.526535</td>\n",
       "      <td>0.434248</td>\n",
       "      <td>0.0</td>\n",
       "      <td>0.2</td>\n",
       "      <td>0.232906</td>\n",
       "      <td>0.350946</td>\n",
       "      <td>0.387430</td>\n",
       "      <td>0.350949</td>\n",
       "      <td>0.543965</td>\n",
       "      <td>0.298298</td>\n",
       "    </tr>\n",
       "    <tr>\n",
       "      <th>3</th>\n",
       "      <td>0.506985</td>\n",
       "      <td>0.940947</td>\n",
       "      <td>0.180600</td>\n",
       "      <td>0.511355</td>\n",
       "      <td>0.758187</td>\n",
       "      <td>0.675419</td>\n",
       "      <td>0.635448</td>\n",
       "      <td>0.557252</td>\n",
       "      <td>0.507016</td>\n",
       "      <td>0.0</td>\n",
       "      <td>0.4</td>\n",
       "      <td>0.433761</td>\n",
       "      <td>0.723313</td>\n",
       "      <td>0.558088</td>\n",
       "      <td>0.723312</td>\n",
       "      <td>0.878072</td>\n",
       "      <td>0.774775</td>\n",
       "    </tr>\n",
       "    <tr>\n",
       "      <th>4</th>\n",
       "      <td>0.992503</td>\n",
       "      <td>0.959118</td>\n",
       "      <td>0.392679</td>\n",
       "      <td>0.307839</td>\n",
       "      <td>0.265441</td>\n",
       "      <td>0.234608</td>\n",
       "      <td>0.210380</td>\n",
       "      <td>0.180154</td>\n",
       "      <td>0.992549</td>\n",
       "      <td>0.0</td>\n",
       "      <td>0.4</td>\n",
       "      <td>0.269231</td>\n",
       "      <td>0.476759</td>\n",
       "      <td>0.074679</td>\n",
       "      <td>0.476753</td>\n",
       "      <td>0.625205</td>\n",
       "      <td>0.841842</td>\n",
       "    </tr>\n",
       "  </tbody>\n",
       "</table>\n",
       "</div>"
      ],
      "text/plain": [
       "     obj_ID     alpha     delta         u         g         r         i  \\\n",
       "0  0.434203  0.376905  0.503802  0.642678  0.638802  0.570554  0.509751   \n",
       "1  0.547496  0.402286  0.491812  0.710434  0.683063  0.759271  0.697750   \n",
       "2  0.434203  0.394960  0.534139  0.747032  0.669704  0.589065  0.526918   \n",
       "3  0.506985  0.940947  0.180600  0.511355  0.758187  0.675419  0.635448   \n",
       "4  0.992503  0.959118  0.392679  0.307839  0.265441  0.234608  0.210380   \n",
       "\n",
       "          z    run_ID  rerun_ID  cam_col  field_ID  spec_obj_ID  redshift  \\\n",
       "0  0.510806  0.434248       0.0      0.2  0.145299     0.451585  0.381862   \n",
       "1  0.797847  0.547498       0.0      0.8  0.230769     0.828833  0.467349   \n",
       "2  0.526535  0.434248       0.0      0.2  0.232906     0.350946  0.387430   \n",
       "3  0.557252  0.507016       0.0      0.4  0.433761     0.723313  0.558088   \n",
       "4  0.180154  0.992549       0.0      0.4  0.269231     0.476759  0.074679   \n",
       "\n",
       "      plate       MJD  fiber_ID  \n",
       "0  0.451592  0.648007  0.170170  \n",
       "1  0.828841  0.894320  0.426426  \n",
       "2  0.350949  0.543965  0.298298  \n",
       "3  0.723312  0.878072  0.774775  \n",
       "4  0.476753  0.625205  0.841842  "
      ]
     },
     "execution_count": 19,
     "metadata": {},
     "output_type": "execute_result"
    }
   ],
   "source": [
    "minmax = MinMaxScaler()\n",
    "scaled = minmax.fit_transform(X)\n",
    "scaled = pd.DataFrame(scaled, columns=X.columns)\n",
    "scaled.head()"
   ]
  },
  {
   "cell_type": "code",
   "execution_count": 20,
   "metadata": {},
   "outputs": [
    {
     "data": {
      "text/html": [
       "<div>\n",
       "<style scoped>\n",
       "    .dataframe tbody tr th:only-of-type {\n",
       "        vertical-align: middle;\n",
       "    }\n",
       "\n",
       "    .dataframe tbody tr th {\n",
       "        vertical-align: top;\n",
       "    }\n",
       "\n",
       "    .dataframe thead th {\n",
       "        text-align: right;\n",
       "    }\n",
       "</style>\n",
       "<table border=\"1\" class=\"dataframe\">\n",
       "  <thead>\n",
       "    <tr style=\"text-align: right;\">\n",
       "      <th></th>\n",
       "      <th>class</th>\n",
       "      <th>obj_ID</th>\n",
       "      <th>alpha</th>\n",
       "      <th>delta</th>\n",
       "      <th>u</th>\n",
       "      <th>g</th>\n",
       "      <th>r</th>\n",
       "      <th>i</th>\n",
       "      <th>z</th>\n",
       "      <th>run_ID</th>\n",
       "      <th>rerun_ID</th>\n",
       "      <th>cam_col</th>\n",
       "      <th>field_ID</th>\n",
       "      <th>spec_obj_ID</th>\n",
       "      <th>redshift</th>\n",
       "      <th>plate</th>\n",
       "      <th>MJD</th>\n",
       "      <th>fiber_ID</th>\n",
       "    </tr>\n",
       "  </thead>\n",
       "  <tbody>\n",
       "    <tr>\n",
       "      <th>0</th>\n",
       "      <td>0.0</td>\n",
       "      <td>0.434203</td>\n",
       "      <td>0.376905</td>\n",
       "      <td>0.503802</td>\n",
       "      <td>0.642678</td>\n",
       "      <td>0.638802</td>\n",
       "      <td>0.570554</td>\n",
       "      <td>0.509751</td>\n",
       "      <td>0.510806</td>\n",
       "      <td>0.434248</td>\n",
       "      <td>0.0</td>\n",
       "      <td>0.2</td>\n",
       "      <td>0.145299</td>\n",
       "      <td>0.451585</td>\n",
       "      <td>0.381862</td>\n",
       "      <td>0.451592</td>\n",
       "      <td>0.648007</td>\n",
       "      <td>0.170170</td>\n",
       "    </tr>\n",
       "    <tr>\n",
       "      <th>1</th>\n",
       "      <td>0.0</td>\n",
       "      <td>0.547496</td>\n",
       "      <td>0.402286</td>\n",
       "      <td>0.491812</td>\n",
       "      <td>0.710434</td>\n",
       "      <td>0.683063</td>\n",
       "      <td>0.759271</td>\n",
       "      <td>0.697750</td>\n",
       "      <td>0.797847</td>\n",
       "      <td>0.547498</td>\n",
       "      <td>0.0</td>\n",
       "      <td>0.8</td>\n",
       "      <td>0.230769</td>\n",
       "      <td>0.828833</td>\n",
       "      <td>0.467349</td>\n",
       "      <td>0.828841</td>\n",
       "      <td>0.894320</td>\n",
       "      <td>0.426426</td>\n",
       "    </tr>\n",
       "    <tr>\n",
       "      <th>2</th>\n",
       "      <td>0.0</td>\n",
       "      <td>0.434203</td>\n",
       "      <td>0.394960</td>\n",
       "      <td>0.534139</td>\n",
       "      <td>0.747032</td>\n",
       "      <td>0.669704</td>\n",
       "      <td>0.589065</td>\n",
       "      <td>0.526918</td>\n",
       "      <td>0.526535</td>\n",
       "      <td>0.434248</td>\n",
       "      <td>0.0</td>\n",
       "      <td>0.2</td>\n",
       "      <td>0.232906</td>\n",
       "      <td>0.350946</td>\n",
       "      <td>0.387430</td>\n",
       "      <td>0.350949</td>\n",
       "      <td>0.543965</td>\n",
       "      <td>0.298298</td>\n",
       "    </tr>\n",
       "    <tr>\n",
       "      <th>3</th>\n",
       "      <td>0.0</td>\n",
       "      <td>0.506985</td>\n",
       "      <td>0.940947</td>\n",
       "      <td>0.180600</td>\n",
       "      <td>0.511355</td>\n",
       "      <td>0.758187</td>\n",
       "      <td>0.675419</td>\n",
       "      <td>0.635448</td>\n",
       "      <td>0.557252</td>\n",
       "      <td>0.507016</td>\n",
       "      <td>0.0</td>\n",
       "      <td>0.4</td>\n",
       "      <td>0.433761</td>\n",
       "      <td>0.723313</td>\n",
       "      <td>0.558088</td>\n",
       "      <td>0.723312</td>\n",
       "      <td>0.878072</td>\n",
       "      <td>0.774775</td>\n",
       "    </tr>\n",
       "    <tr>\n",
       "      <th>4</th>\n",
       "      <td>0.0</td>\n",
       "      <td>0.992503</td>\n",
       "      <td>0.959118</td>\n",
       "      <td>0.392679</td>\n",
       "      <td>0.307839</td>\n",
       "      <td>0.265441</td>\n",
       "      <td>0.234608</td>\n",
       "      <td>0.210380</td>\n",
       "      <td>0.180154</td>\n",
       "      <td>0.992549</td>\n",
       "      <td>0.0</td>\n",
       "      <td>0.4</td>\n",
       "      <td>0.269231</td>\n",
       "      <td>0.476759</td>\n",
       "      <td>0.074679</td>\n",
       "      <td>0.476753</td>\n",
       "      <td>0.625205</td>\n",
       "      <td>0.841842</td>\n",
       "    </tr>\n",
       "  </tbody>\n",
       "</table>\n",
       "</div>"
      ],
      "text/plain": [
       "   class    obj_ID     alpha     delta         u         g         r  \\\n",
       "0    0.0  0.434203  0.376905  0.503802  0.642678  0.638802  0.570554   \n",
       "1    0.0  0.547496  0.402286  0.491812  0.710434  0.683063  0.759271   \n",
       "2    0.0  0.434203  0.394960  0.534139  0.747032  0.669704  0.589065   \n",
       "3    0.0  0.506985  0.940947  0.180600  0.511355  0.758187  0.675419   \n",
       "4    0.0  0.992503  0.959118  0.392679  0.307839  0.265441  0.234608   \n",
       "\n",
       "          i         z    run_ID  rerun_ID  cam_col  field_ID  spec_obj_ID  \\\n",
       "0  0.509751  0.510806  0.434248       0.0      0.2  0.145299     0.451585   \n",
       "1  0.697750  0.797847  0.547498       0.0      0.8  0.230769     0.828833   \n",
       "2  0.526918  0.526535  0.434248       0.0      0.2  0.232906     0.350946   \n",
       "3  0.635448  0.557252  0.507016       0.0      0.4  0.433761     0.723313   \n",
       "4  0.210380  0.180154  0.992549       0.0      0.4  0.269231     0.476759   \n",
       "\n",
       "   redshift     plate       MJD  fiber_ID  \n",
       "0  0.381862  0.451592  0.648007  0.170170  \n",
       "1  0.467349  0.828841  0.894320  0.426426  \n",
       "2  0.387430  0.350949  0.543965  0.298298  \n",
       "3  0.558088  0.723312  0.878072  0.774775  \n",
       "4  0.074679  0.476753  0.625205  0.841842  "
      ]
     },
     "execution_count": 20,
     "metadata": {},
     "output_type": "execute_result"
    }
   ],
   "source": [
    "data_minmax_scaler = y.join(scaled)\n",
    "data_minmax_scaler.head()"
   ]
  },
  {
   "cell_type": "markdown",
   "metadata": {},
   "source": [
    "###  Standasardization (Z-Score normalization)"
   ]
  },
  {
   "cell_type": "markdown",
   "metadata": {},
   "source": [
    "data di standarisasi untuk pembuatan model"
   ]
  },
  {
   "cell_type": "code",
   "execution_count": 21,
   "metadata": {},
   "outputs": [
    {
     "data": {
      "text/html": [
       "<div>\n",
       "<style scoped>\n",
       "    .dataframe tbody tr th:only-of-type {\n",
       "        vertical-align: middle;\n",
       "    }\n",
       "\n",
       "    .dataframe tbody tr th {\n",
       "        vertical-align: top;\n",
       "    }\n",
       "\n",
       "    .dataframe thead th {\n",
       "        text-align: right;\n",
       "    }\n",
       "</style>\n",
       "<table border=\"1\" class=\"dataframe\">\n",
       "  <thead>\n",
       "    <tr style=\"text-align: right;\">\n",
       "      <th></th>\n",
       "      <th>obj_ID</th>\n",
       "      <th>alpha</th>\n",
       "      <th>delta</th>\n",
       "      <th>u</th>\n",
       "      <th>g</th>\n",
       "      <th>r</th>\n",
       "      <th>i</th>\n",
       "      <th>z</th>\n",
       "      <th>run_ID</th>\n",
       "      <th>rerun_ID</th>\n",
       "      <th>cam_col</th>\n",
       "      <th>field_ID</th>\n",
       "      <th>spec_obj_ID</th>\n",
       "      <th>redshift</th>\n",
       "      <th>plate</th>\n",
       "      <th>MJD</th>\n",
       "      <th>fiber_ID</th>\n",
       "    </tr>\n",
       "  </thead>\n",
       "  <tbody>\n",
       "    <tr>\n",
       "      <th>0</th>\n",
       "      <td>-0.445634</td>\n",
       "      <td>-0.434604</td>\n",
       "      <td>0.425529</td>\n",
       "      <td>0.800250</td>\n",
       "      <td>0.810083</td>\n",
       "      <td>0.404933</td>\n",
       "      <td>0.044021</td>\n",
       "      <td>0.010630</td>\n",
       "      <td>-0.445535</td>\n",
       "      <td>0.0</td>\n",
       "      <td>-0.952553</td>\n",
       "      <td>-0.829054</td>\n",
       "      <td>0.228609</td>\n",
       "      <td>0.273501</td>\n",
       "      <td>0.228633</td>\n",
       "      <td>0.423203</td>\n",
       "      <td>-1.021342</td>\n",
       "    </tr>\n",
       "    <tr>\n",
       "      <th>1</th>\n",
       "      <td>0.018740</td>\n",
       "      <td>-0.339921</td>\n",
       "      <td>0.363402</td>\n",
       "      <td>1.200576</td>\n",
       "      <td>1.084756</td>\n",
       "      <td>1.594585</td>\n",
       "      <td>1.196202</td>\n",
       "      <td>1.631422</td>\n",
       "      <td>0.018646</td>\n",
       "      <td>0.0</td>\n",
       "      <td>0.937920</td>\n",
       "      <td>-0.474728</td>\n",
       "      <td>1.797912</td>\n",
       "      <td>0.562585</td>\n",
       "      <td>1.797924</td>\n",
       "      <td>1.420729</td>\n",
       "      <td>-0.081883</td>\n",
       "    </tr>\n",
       "    <tr>\n",
       "      <th>2</th>\n",
       "      <td>-0.445633</td>\n",
       "      <td>-0.367251</td>\n",
       "      <td>0.582713</td>\n",
       "      <td>1.416816</td>\n",
       "      <td>1.001853</td>\n",
       "      <td>0.521620</td>\n",
       "      <td>0.149227</td>\n",
       "      <td>0.099445</td>\n",
       "      <td>-0.445535</td>\n",
       "      <td>0.0</td>\n",
       "      <td>-0.952553</td>\n",
       "      <td>-0.465870</td>\n",
       "      <td>-0.190037</td>\n",
       "      <td>0.292329</td>\n",
       "      <td>-0.190025</td>\n",
       "      <td>0.001854</td>\n",
       "      <td>-0.551612</td>\n",
       "    </tr>\n",
       "    <tr>\n",
       "      <th>3</th>\n",
       "      <td>-0.147311</td>\n",
       "      <td>1.669523</td>\n",
       "      <td>-1.249105</td>\n",
       "      <td>0.024337</td>\n",
       "      <td>1.550959</td>\n",
       "      <td>1.065992</td>\n",
       "      <td>0.814376</td>\n",
       "      <td>0.272887</td>\n",
       "      <td>-0.147278</td>\n",
       "      <td>0.0</td>\n",
       "      <td>-0.322395</td>\n",
       "      <td>0.366797</td>\n",
       "      <td>1.358962</td>\n",
       "      <td>0.869427</td>\n",
       "      <td>1.358942</td>\n",
       "      <td>1.354927</td>\n",
       "      <td>1.195196</td>\n",
       "    </tr>\n",
       "    <tr>\n",
       "      <th>4</th>\n",
       "      <td>1.842768</td>\n",
       "      <td>1.737310</td>\n",
       "      <td>-0.150242</td>\n",
       "      <td>-1.178124</td>\n",
       "      <td>-1.506922</td>\n",
       "      <td>-1.712840</td>\n",
       "      <td>-1.790721</td>\n",
       "      <td>-1.856417</td>\n",
       "      <td>1.842792</td>\n",
       "      <td>0.0</td>\n",
       "      <td>-0.322395</td>\n",
       "      <td>-0.315281</td>\n",
       "      <td>0.333328</td>\n",
       "      <td>-0.765275</td>\n",
       "      <td>0.333297</td>\n",
       "      <td>0.330860</td>\n",
       "      <td>1.441070</td>\n",
       "    </tr>\n",
       "  </tbody>\n",
       "</table>\n",
       "</div>"
      ],
      "text/plain": [
       "     obj_ID     alpha     delta         u         g         r         i  \\\n",
       "0 -0.445634 -0.434604  0.425529  0.800250  0.810083  0.404933  0.044021   \n",
       "1  0.018740 -0.339921  0.363402  1.200576  1.084756  1.594585  1.196202   \n",
       "2 -0.445633 -0.367251  0.582713  1.416816  1.001853  0.521620  0.149227   \n",
       "3 -0.147311  1.669523 -1.249105  0.024337  1.550959  1.065992  0.814376   \n",
       "4  1.842768  1.737310 -0.150242 -1.178124 -1.506922 -1.712840 -1.790721   \n",
       "\n",
       "          z    run_ID  rerun_ID   cam_col  field_ID  spec_obj_ID  redshift  \\\n",
       "0  0.010630 -0.445535       0.0 -0.952553 -0.829054     0.228609  0.273501   \n",
       "1  1.631422  0.018646       0.0  0.937920 -0.474728     1.797912  0.562585   \n",
       "2  0.099445 -0.445535       0.0 -0.952553 -0.465870    -0.190037  0.292329   \n",
       "3  0.272887 -0.147278       0.0 -0.322395  0.366797     1.358962  0.869427   \n",
       "4 -1.856417  1.842792       0.0 -0.322395 -0.315281     0.333328 -0.765275   \n",
       "\n",
       "      plate       MJD  fiber_ID  \n",
       "0  0.228633  0.423203 -1.021342  \n",
       "1  1.797924  1.420729 -0.081883  \n",
       "2 -0.190025  0.001854 -0.551612  \n",
       "3  1.358942  1.354927  1.195196  \n",
       "4  0.333297  0.330860  1.441070  "
      ]
     },
     "execution_count": 21,
     "metadata": {},
     "output_type": "execute_result"
    }
   ],
   "source": [
    "std = StandardScaler()\n",
    "scaled = std.fit_transform(X)\n",
    "scaled = pd.DataFrame(scaled, columns=X.columns)\n",
    "scaled.head()"
   ]
  },
  {
   "cell_type": "code",
   "execution_count": 22,
   "metadata": {},
   "outputs": [
    {
     "data": {
      "text/html": [
       "<div>\n",
       "<style scoped>\n",
       "    .dataframe tbody tr th:only-of-type {\n",
       "        vertical-align: middle;\n",
       "    }\n",
       "\n",
       "    .dataframe tbody tr th {\n",
       "        vertical-align: top;\n",
       "    }\n",
       "\n",
       "    .dataframe thead th {\n",
       "        text-align: right;\n",
       "    }\n",
       "</style>\n",
       "<table border=\"1\" class=\"dataframe\">\n",
       "  <thead>\n",
       "    <tr style=\"text-align: right;\">\n",
       "      <th></th>\n",
       "      <th>class</th>\n",
       "      <th>obj_ID</th>\n",
       "      <th>alpha</th>\n",
       "      <th>delta</th>\n",
       "      <th>u</th>\n",
       "      <th>g</th>\n",
       "      <th>r</th>\n",
       "      <th>i</th>\n",
       "      <th>z</th>\n",
       "      <th>run_ID</th>\n",
       "      <th>rerun_ID</th>\n",
       "      <th>cam_col</th>\n",
       "      <th>field_ID</th>\n",
       "      <th>spec_obj_ID</th>\n",
       "      <th>redshift</th>\n",
       "      <th>plate</th>\n",
       "      <th>MJD</th>\n",
       "      <th>fiber_ID</th>\n",
       "    </tr>\n",
       "  </thead>\n",
       "  <tbody>\n",
       "    <tr>\n",
       "      <th>0</th>\n",
       "      <td>0.0</td>\n",
       "      <td>-0.445634</td>\n",
       "      <td>-0.434604</td>\n",
       "      <td>0.425529</td>\n",
       "      <td>0.800250</td>\n",
       "      <td>0.810083</td>\n",
       "      <td>0.404933</td>\n",
       "      <td>0.044021</td>\n",
       "      <td>0.010630</td>\n",
       "      <td>-0.445535</td>\n",
       "      <td>0.0</td>\n",
       "      <td>-0.952553</td>\n",
       "      <td>-0.829054</td>\n",
       "      <td>0.228609</td>\n",
       "      <td>0.273501</td>\n",
       "      <td>0.228633</td>\n",
       "      <td>0.423203</td>\n",
       "      <td>-1.021342</td>\n",
       "    </tr>\n",
       "    <tr>\n",
       "      <th>1</th>\n",
       "      <td>0.0</td>\n",
       "      <td>0.018740</td>\n",
       "      <td>-0.339921</td>\n",
       "      <td>0.363402</td>\n",
       "      <td>1.200576</td>\n",
       "      <td>1.084756</td>\n",
       "      <td>1.594585</td>\n",
       "      <td>1.196202</td>\n",
       "      <td>1.631422</td>\n",
       "      <td>0.018646</td>\n",
       "      <td>0.0</td>\n",
       "      <td>0.937920</td>\n",
       "      <td>-0.474728</td>\n",
       "      <td>1.797912</td>\n",
       "      <td>0.562585</td>\n",
       "      <td>1.797924</td>\n",
       "      <td>1.420729</td>\n",
       "      <td>-0.081883</td>\n",
       "    </tr>\n",
       "    <tr>\n",
       "      <th>2</th>\n",
       "      <td>0.0</td>\n",
       "      <td>-0.445633</td>\n",
       "      <td>-0.367251</td>\n",
       "      <td>0.582713</td>\n",
       "      <td>1.416816</td>\n",
       "      <td>1.001853</td>\n",
       "      <td>0.521620</td>\n",
       "      <td>0.149227</td>\n",
       "      <td>0.099445</td>\n",
       "      <td>-0.445535</td>\n",
       "      <td>0.0</td>\n",
       "      <td>-0.952553</td>\n",
       "      <td>-0.465870</td>\n",
       "      <td>-0.190037</td>\n",
       "      <td>0.292329</td>\n",
       "      <td>-0.190025</td>\n",
       "      <td>0.001854</td>\n",
       "      <td>-0.551612</td>\n",
       "    </tr>\n",
       "    <tr>\n",
       "      <th>3</th>\n",
       "      <td>0.0</td>\n",
       "      <td>-0.147311</td>\n",
       "      <td>1.669523</td>\n",
       "      <td>-1.249105</td>\n",
       "      <td>0.024337</td>\n",
       "      <td>1.550959</td>\n",
       "      <td>1.065992</td>\n",
       "      <td>0.814376</td>\n",
       "      <td>0.272887</td>\n",
       "      <td>-0.147278</td>\n",
       "      <td>0.0</td>\n",
       "      <td>-0.322395</td>\n",
       "      <td>0.366797</td>\n",
       "      <td>1.358962</td>\n",
       "      <td>0.869427</td>\n",
       "      <td>1.358942</td>\n",
       "      <td>1.354927</td>\n",
       "      <td>1.195196</td>\n",
       "    </tr>\n",
       "    <tr>\n",
       "      <th>4</th>\n",
       "      <td>0.0</td>\n",
       "      <td>1.842768</td>\n",
       "      <td>1.737310</td>\n",
       "      <td>-0.150242</td>\n",
       "      <td>-1.178124</td>\n",
       "      <td>-1.506922</td>\n",
       "      <td>-1.712840</td>\n",
       "      <td>-1.790721</td>\n",
       "      <td>-1.856417</td>\n",
       "      <td>1.842792</td>\n",
       "      <td>0.0</td>\n",
       "      <td>-0.322395</td>\n",
       "      <td>-0.315281</td>\n",
       "      <td>0.333328</td>\n",
       "      <td>-0.765275</td>\n",
       "      <td>0.333297</td>\n",
       "      <td>0.330860</td>\n",
       "      <td>1.441070</td>\n",
       "    </tr>\n",
       "  </tbody>\n",
       "</table>\n",
       "</div>"
      ],
      "text/plain": [
       "   class    obj_ID     alpha     delta         u         g         r  \\\n",
       "0    0.0 -0.445634 -0.434604  0.425529  0.800250  0.810083  0.404933   \n",
       "1    0.0  0.018740 -0.339921  0.363402  1.200576  1.084756  1.594585   \n",
       "2    0.0 -0.445633 -0.367251  0.582713  1.416816  1.001853  0.521620   \n",
       "3    0.0 -0.147311  1.669523 -1.249105  0.024337  1.550959  1.065992   \n",
       "4    0.0  1.842768  1.737310 -0.150242 -1.178124 -1.506922 -1.712840   \n",
       "\n",
       "          i         z    run_ID  rerun_ID   cam_col  field_ID  spec_obj_ID  \\\n",
       "0  0.044021  0.010630 -0.445535       0.0 -0.952553 -0.829054     0.228609   \n",
       "1  1.196202  1.631422  0.018646       0.0  0.937920 -0.474728     1.797912   \n",
       "2  0.149227  0.099445 -0.445535       0.0 -0.952553 -0.465870    -0.190037   \n",
       "3  0.814376  0.272887 -0.147278       0.0 -0.322395  0.366797     1.358962   \n",
       "4 -1.790721 -1.856417  1.842792       0.0 -0.322395 -0.315281     0.333328   \n",
       "\n",
       "   redshift     plate       MJD  fiber_ID  \n",
       "0  0.273501  0.228633  0.423203 -1.021342  \n",
       "1  0.562585  1.797924  1.420729 -0.081883  \n",
       "2  0.292329 -0.190025  0.001854 -0.551612  \n",
       "3  0.869427  1.358942  1.354927  1.195196  \n",
       "4 -0.765275  0.333297  0.330860  1.441070  "
      ]
     },
     "execution_count": 22,
     "metadata": {},
     "output_type": "execute_result"
    }
   ],
   "source": [
    "data_standardization = y.join(scaled)\n",
    "data_standardization.head()"
   ]
  },
  {
   "cell_type": "markdown",
   "metadata": {},
   "source": [
    "## feature selection"
   ]
  },
  {
   "cell_type": "markdown",
   "metadata": {},
   "source": [
    "projek ini saya menggunakan chi square untuk pemilihan fitur, dan saya hanya menggunakan 9 fitur terbaik untuk pembuatan model"
   ]
  },
  {
   "cell_type": "code",
   "execution_count": 23,
   "metadata": {},
   "outputs": [],
   "source": [
    "X = data_minmax_scaler.drop(columns=['class'])\n",
    "y = data_minmax_scaler.loc[:, 'class']"
   ]
  },
  {
   "cell_type": "code",
   "execution_count": 24,
   "metadata": {},
   "outputs": [],
   "source": [
    "best_feature = SelectKBest(score_func=chi2, k=9)\n",
    "fit = best_feature.fit(X, y)"
   ]
  },
  {
   "cell_type": "code",
   "execution_count": 26,
   "metadata": {},
   "outputs": [],
   "source": [
    "feature_score = pd.DataFrame({\n",
    "    'feature' : X.columns,\n",
    "    'score': fit.scores_\n",
    "})"
   ]
  },
  {
   "cell_type": "code",
   "execution_count": 27,
   "metadata": {},
   "outputs": [
    {
     "data": {
      "text/html": [
       "<div>\n",
       "<style scoped>\n",
       "    .dataframe tbody tr th:only-of-type {\n",
       "        vertical-align: middle;\n",
       "    }\n",
       "\n",
       "    .dataframe tbody tr th {\n",
       "        vertical-align: top;\n",
       "    }\n",
       "\n",
       "    .dataframe thead th {\n",
       "        text-align: right;\n",
       "    }\n",
       "</style>\n",
       "<table border=\"1\" class=\"dataframe\">\n",
       "  <thead>\n",
       "    <tr style=\"text-align: right;\">\n",
       "      <th></th>\n",
       "      <th>feature</th>\n",
       "      <th>score</th>\n",
       "    </tr>\n",
       "  </thead>\n",
       "  <tbody>\n",
       "    <tr>\n",
       "      <th>13</th>\n",
       "      <td>redshift</td>\n",
       "      <td>21093.636560</td>\n",
       "    </tr>\n",
       "    <tr>\n",
       "      <th>14</th>\n",
       "      <td>plate</td>\n",
       "      <td>1365.314507</td>\n",
       "    </tr>\n",
       "    <tr>\n",
       "      <th>12</th>\n",
       "      <td>spec_obj_ID</td>\n",
       "      <td>1365.283990</td>\n",
       "    </tr>\n",
       "    <tr>\n",
       "      <th>7</th>\n",
       "      <td>z</td>\n",
       "      <td>1060.386300</td>\n",
       "    </tr>\n",
       "    <tr>\n",
       "      <th>15</th>\n",
       "      <td>MJD</td>\n",
       "      <td>912.613448</td>\n",
       "    </tr>\n",
       "    <tr>\n",
       "      <th>6</th>\n",
       "      <td>i</td>\n",
       "      <td>762.287759</td>\n",
       "    </tr>\n",
       "    <tr>\n",
       "      <th>3</th>\n",
       "      <td>u</td>\n",
       "      <td>437.769600</td>\n",
       "    </tr>\n",
       "    <tr>\n",
       "      <th>5</th>\n",
       "      <td>r</td>\n",
       "      <td>421.282340</td>\n",
       "    </tr>\n",
       "    <tr>\n",
       "      <th>4</th>\n",
       "      <td>g</td>\n",
       "      <td>351.223865</td>\n",
       "    </tr>\n",
       "    <tr>\n",
       "      <th>16</th>\n",
       "      <td>fiber_ID</td>\n",
       "      <td>143.588657</td>\n",
       "    </tr>\n",
       "    <tr>\n",
       "      <th>2</th>\n",
       "      <td>delta</td>\n",
       "      <td>38.275793</td>\n",
       "    </tr>\n",
       "    <tr>\n",
       "      <th>8</th>\n",
       "      <td>run_ID</td>\n",
       "      <td>26.806298</td>\n",
       "    </tr>\n",
       "    <tr>\n",
       "      <th>0</th>\n",
       "      <td>obj_ID</td>\n",
       "      <td>26.803857</td>\n",
       "    </tr>\n",
       "    <tr>\n",
       "      <th>11</th>\n",
       "      <td>field_ID</td>\n",
       "      <td>22.567848</td>\n",
       "    </tr>\n",
       "    <tr>\n",
       "      <th>10</th>\n",
       "      <td>cam_col</td>\n",
       "      <td>10.809011</td>\n",
       "    </tr>\n",
       "    <tr>\n",
       "      <th>1</th>\n",
       "      <td>alpha</td>\n",
       "      <td>6.390544</td>\n",
       "    </tr>\n",
       "    <tr>\n",
       "      <th>9</th>\n",
       "      <td>rerun_ID</td>\n",
       "      <td>NaN</td>\n",
       "    </tr>\n",
       "  </tbody>\n",
       "</table>\n",
       "</div>"
      ],
      "text/plain": [
       "        feature         score\n",
       "13     redshift  21093.636560\n",
       "14        plate   1365.314507\n",
       "12  spec_obj_ID   1365.283990\n",
       "7             z   1060.386300\n",
       "15          MJD    912.613448\n",
       "6             i    762.287759\n",
       "3             u    437.769600\n",
       "5             r    421.282340\n",
       "4             g    351.223865\n",
       "16     fiber_ID    143.588657\n",
       "2         delta     38.275793\n",
       "8        run_ID     26.806298\n",
       "0        obj_ID     26.803857\n",
       "11     field_ID     22.567848\n",
       "10      cam_col     10.809011\n",
       "1         alpha      6.390544\n",
       "9      rerun_ID           NaN"
      ]
     },
     "execution_count": 27,
     "metadata": {},
     "output_type": "execute_result"
    }
   ],
   "source": [
    "feature_score.sort_values(by=['score'], ascending=False, inplace=True)\n",
    "feature_score"
   ]
  },
  {
   "cell_type": "code",
   "execution_count": 28,
   "metadata": {},
   "outputs": [],
   "source": [
    "feature_score.fillna(0, inplace=True)\n"
   ]
  },
  {
   "cell_type": "code",
   "execution_count": 29,
   "metadata": {},
   "outputs": [
    {
     "data": {
      "image/png": "[encoded data removed]",
      "text/plain": [
       "<Figure size 720x360 with 1 Axes>"
      ]
     },
     "metadata": {
      "needs_background": "light"
     },
     "output_type": "display_data"
    }
   ],
   "source": [
    "plt.figure(figsize=(10, 5))\n",
    "plt.barh(feature_score['feature'], feature_score['score'])\n",
    "plt.xlabel('score')\n",
    "plt.ylabel('feature')\n",
    "plt.show()"
   ]
  },
  {
   "cell_type": "markdown",
   "metadata": {},
   "source": [
    "## model"
   ]
  },
  {
   "cell_type": "markdown",
   "metadata": {},
   "source": [
    "projek ini saya menggunakan algoritma k nearst neighbor\n",
    "\n",
    "metric yang saya gunakan yaitu euclidean dan manhattan untuk mencari metrics terbaik dan menggunakan nilai k dari 1 sampai 20"
   ]
  },
  {
   "cell_type": "code",
   "execution_count": 30,
   "metadata": {},
   "outputs": [
    {
     "data": {
      "text/html": [
       "<div>\n",
       "<style scoped>\n",
       "    .dataframe tbody tr th:only-of-type {\n",
       "        vertical-align: middle;\n",
       "    }\n",
       "\n",
       "    .dataframe tbody tr th {\n",
       "        vertical-align: top;\n",
       "    }\n",
       "\n",
       "    .dataframe thead th {\n",
       "        text-align: right;\n",
       "    }\n",
       "</style>\n",
       "<table border=\"1\" class=\"dataframe\">\n",
       "  <thead>\n",
       "    <tr style=\"text-align: right;\">\n",
       "      <th></th>\n",
       "      <th>class</th>\n",
       "      <th>obj_ID</th>\n",
       "      <th>alpha</th>\n",
       "      <th>delta</th>\n",
       "      <th>u</th>\n",
       "      <th>g</th>\n",
       "      <th>r</th>\n",
       "      <th>i</th>\n",
       "      <th>z</th>\n",
       "      <th>run_ID</th>\n",
       "      <th>rerun_ID</th>\n",
       "      <th>cam_col</th>\n",
       "      <th>field_ID</th>\n",
       "      <th>spec_obj_ID</th>\n",
       "      <th>redshift</th>\n",
       "      <th>plate</th>\n",
       "      <th>MJD</th>\n",
       "      <th>fiber_ID</th>\n",
       "    </tr>\n",
       "  </thead>\n",
       "  <tbody>\n",
       "    <tr>\n",
       "      <th>0</th>\n",
       "      <td>0.0</td>\n",
       "      <td>-0.445634</td>\n",
       "      <td>-0.434604</td>\n",
       "      <td>0.425529</td>\n",
       "      <td>0.800250</td>\n",
       "      <td>0.810083</td>\n",
       "      <td>0.404933</td>\n",
       "      <td>0.044021</td>\n",
       "      <td>0.010630</td>\n",
       "      <td>-0.445535</td>\n",
       "      <td>0.0</td>\n",
       "      <td>-0.952553</td>\n",
       "      <td>-0.829054</td>\n",
       "      <td>0.228609</td>\n",
       "      <td>0.273501</td>\n",
       "      <td>0.228633</td>\n",
       "      <td>0.423203</td>\n",
       "      <td>-1.021342</td>\n",
       "    </tr>\n",
       "    <tr>\n",
       "      <th>1</th>\n",
       "      <td>0.0</td>\n",
       "      <td>0.018740</td>\n",
       "      <td>-0.339921</td>\n",
       "      <td>0.363402</td>\n",
       "      <td>1.200576</td>\n",
       "      <td>1.084756</td>\n",
       "      <td>1.594585</td>\n",
       "      <td>1.196202</td>\n",
       "      <td>1.631422</td>\n",
       "      <td>0.018646</td>\n",
       "      <td>0.0</td>\n",
       "      <td>0.937920</td>\n",
       "      <td>-0.474728</td>\n",
       "      <td>1.797912</td>\n",
       "      <td>0.562585</td>\n",
       "      <td>1.797924</td>\n",
       "      <td>1.420729</td>\n",
       "      <td>-0.081883</td>\n",
       "    </tr>\n",
       "    <tr>\n",
       "      <th>2</th>\n",
       "      <td>0.0</td>\n",
       "      <td>-0.445633</td>\n",
       "      <td>-0.367251</td>\n",
       "      <td>0.582713</td>\n",
       "      <td>1.416816</td>\n",
       "      <td>1.001853</td>\n",
       "      <td>0.521620</td>\n",
       "      <td>0.149227</td>\n",
       "      <td>0.099445</td>\n",
       "      <td>-0.445535</td>\n",
       "      <td>0.0</td>\n",
       "      <td>-0.952553</td>\n",
       "      <td>-0.465870</td>\n",
       "      <td>-0.190037</td>\n",
       "      <td>0.292329</td>\n",
       "      <td>-0.190025</td>\n",
       "      <td>0.001854</td>\n",
       "      <td>-0.551612</td>\n",
       "    </tr>\n",
       "    <tr>\n",
       "      <th>3</th>\n",
       "      <td>0.0</td>\n",
       "      <td>-0.147311</td>\n",
       "      <td>1.669523</td>\n",
       "      <td>-1.249105</td>\n",
       "      <td>0.024337</td>\n",
       "      <td>1.550959</td>\n",
       "      <td>1.065992</td>\n",
       "      <td>0.814376</td>\n",
       "      <td>0.272887</td>\n",
       "      <td>-0.147278</td>\n",
       "      <td>0.0</td>\n",
       "      <td>-0.322395</td>\n",
       "      <td>0.366797</td>\n",
       "      <td>1.358962</td>\n",
       "      <td>0.869427</td>\n",
       "      <td>1.358942</td>\n",
       "      <td>1.354927</td>\n",
       "      <td>1.195196</td>\n",
       "    </tr>\n",
       "    <tr>\n",
       "      <th>4</th>\n",
       "      <td>0.0</td>\n",
       "      <td>1.842768</td>\n",
       "      <td>1.737310</td>\n",
       "      <td>-0.150242</td>\n",
       "      <td>-1.178124</td>\n",
       "      <td>-1.506922</td>\n",
       "      <td>-1.712840</td>\n",
       "      <td>-1.790721</td>\n",
       "      <td>-1.856417</td>\n",
       "      <td>1.842792</td>\n",
       "      <td>0.0</td>\n",
       "      <td>-0.322395</td>\n",
       "      <td>-0.315281</td>\n",
       "      <td>0.333328</td>\n",
       "      <td>-0.765275</td>\n",
       "      <td>0.333297</td>\n",
       "      <td>0.330860</td>\n",
       "      <td>1.441070</td>\n",
       "    </tr>\n",
       "  </tbody>\n",
       "</table>\n",
       "</div>"
      ],
      "text/plain": [
       "   class    obj_ID     alpha     delta         u         g         r  \\\n",
       "0    0.0 -0.445634 -0.434604  0.425529  0.800250  0.810083  0.404933   \n",
       "1    0.0  0.018740 -0.339921  0.363402  1.200576  1.084756  1.594585   \n",
       "2    0.0 -0.445633 -0.367251  0.582713  1.416816  1.001853  0.521620   \n",
       "3    0.0 -0.147311  1.669523 -1.249105  0.024337  1.550959  1.065992   \n",
       "4    0.0  1.842768  1.737310 -0.150242 -1.178124 -1.506922 -1.712840   \n",
       "\n",
       "          i         z    run_ID  rerun_ID   cam_col  field_ID  spec_obj_ID  \\\n",
       "0  0.044021  0.010630 -0.445535       0.0 -0.952553 -0.829054     0.228609   \n",
       "1  1.196202  1.631422  0.018646       0.0  0.937920 -0.474728     1.797912   \n",
       "2  0.149227  0.099445 -0.445535       0.0 -0.952553 -0.465870    -0.190037   \n",
       "3  0.814376  0.272887 -0.147278       0.0 -0.322395  0.366797     1.358962   \n",
       "4 -1.790721 -1.856417  1.842792       0.0 -0.322395 -0.315281     0.333328   \n",
       "\n",
       "   redshift     plate       MJD  fiber_ID  \n",
       "0  0.273501  0.228633  0.423203 -1.021342  \n",
       "1  0.562585  1.797924  1.420729 -0.081883  \n",
       "2  0.292329 -0.190025  0.001854 -0.551612  \n",
       "3  0.869427  1.358942  1.354927  1.195196  \n",
       "4 -0.765275  0.333297  0.330860  1.441070  "
      ]
     },
     "execution_count": 30,
     "metadata": {},
     "output_type": "execute_result"
    }
   ],
   "source": [
    "data_standardization.head()"
   ]
  },
  {
   "cell_type": "code",
   "execution_count": 31,
   "metadata": {},
   "outputs": [],
   "source": [
    "X = data_standardization.loc[:, ['redshift', 'plate', 'spec_obj_ID', 'z', 'MJD', 'i', 'u', 'r', 'g']]\n",
    "y = data_standardization.loc[:, 'class']"
   ]
  },
  {
   "cell_type": "code",
   "execution_count": 32,
   "metadata": {},
   "outputs": [],
   "source": [
    "# membagi data latih dan data tes\n",
    "# data latih sebanyak 70% dan data tes sebanyak 30%\n",
    "X_train, X_test, y_train, y_test = train_test_split(X, y, test_size=0.3, random_state=0)"
   ]
  },
  {
   "cell_type": "code",
   "execution_count": 33,
   "metadata": {},
   "outputs": [],
   "source": [
    "k_neighbors = 20\n",
    "metrics = ['euclidean', 'manhattan']"
   ]
  },
  {
   "cell_type": "code",
   "execution_count": 34,
   "metadata": {},
   "outputs": [],
   "source": [
    "accuracy_total = []\n",
    "for k in range(1, k_neighbors+1, 1):\n",
    "    accuracy_k = []\n",
    "    for metric in metrics:\n",
    "        knn = KNeighborsClassifier(n_neighbors=k, weights='distance', metric=metric)\n",
    "        knn.fit(X_train, y_train)\n",
    "        y_pred = knn.predict(X_test)\n",
    "        accuracy = accuracy_score(y_test, y_pred)\n",
    "        accuracy_k.append(accuracy)\n",
    "    accuracy_total.append(accuracy_k)"
   ]
  },
  {
   "cell_type": "code",
   "execution_count": 35,
   "metadata": {},
   "outputs": [],
   "source": [
    "accuracy_df = pd.DataFrame(np.array(accuracy_total), columns=metrics)"
   ]
  },
  {
   "cell_type": "code",
   "execution_count": 36,
   "metadata": {},
   "outputs": [],
   "source": [
    "k_list = []\n",
    "for k in range(1, k_neighbors+1):\n",
    "    k_list.append(k)\n",
    "    \n",
    "k_df = pd.DataFrame(k_list, columns=['k'])"
   ]
  },
  {
   "cell_type": "code",
   "execution_count": 37,
   "metadata": {},
   "outputs": [
    {
     "data": {
      "text/html": [
       "<div>\n",
       "<style scoped>\n",
       "    .dataframe tbody tr th:only-of-type {\n",
       "        vertical-align: middle;\n",
       "    }\n",
       "\n",
       "    .dataframe tbody tr th {\n",
       "        vertical-align: top;\n",
       "    }\n",
       "\n",
       "    .dataframe thead th {\n",
       "        text-align: right;\n",
       "    }\n",
       "</style>\n",
       "<table border=\"1\" class=\"dataframe\">\n",
       "  <thead>\n",
       "    <tr style=\"text-align: right;\">\n",
       "      <th></th>\n",
       "      <th>k</th>\n",
       "      <th>euclidean</th>\n",
       "      <th>manhattan</th>\n",
       "    </tr>\n",
       "  </thead>\n",
       "  <tbody>\n",
       "    <tr>\n",
       "      <th>0</th>\n",
       "      <td>1</td>\n",
       "      <td>0.947767</td>\n",
       "      <td>0.949600</td>\n",
       "    </tr>\n",
       "    <tr>\n",
       "      <th>1</th>\n",
       "      <td>2</td>\n",
       "      <td>0.947767</td>\n",
       "      <td>0.949600</td>\n",
       "    </tr>\n",
       "    <tr>\n",
       "      <th>2</th>\n",
       "      <td>3</td>\n",
       "      <td>0.956967</td>\n",
       "      <td>0.958733</td>\n",
       "    </tr>\n",
       "    <tr>\n",
       "      <th>3</th>\n",
       "      <td>4</td>\n",
       "      <td>0.957767</td>\n",
       "      <td>0.959700</td>\n",
       "    </tr>\n",
       "    <tr>\n",
       "      <th>4</th>\n",
       "      <td>5</td>\n",
       "      <td>0.957633</td>\n",
       "      <td>0.959633</td>\n",
       "    </tr>\n",
       "    <tr>\n",
       "      <th>5</th>\n",
       "      <td>6</td>\n",
       "      <td>0.958533</td>\n",
       "      <td>0.960167</td>\n",
       "    </tr>\n",
       "    <tr>\n",
       "      <th>6</th>\n",
       "      <td>7</td>\n",
       "      <td>0.957600</td>\n",
       "      <td>0.959267</td>\n",
       "    </tr>\n",
       "    <tr>\n",
       "      <th>7</th>\n",
       "      <td>8</td>\n",
       "      <td>0.958000</td>\n",
       "      <td>0.960233</td>\n",
       "    </tr>\n",
       "    <tr>\n",
       "      <th>8</th>\n",
       "      <td>9</td>\n",
       "      <td>0.957900</td>\n",
       "      <td>0.959033</td>\n",
       "    </tr>\n",
       "    <tr>\n",
       "      <th>9</th>\n",
       "      <td>10</td>\n",
       "      <td>0.957800</td>\n",
       "      <td>0.959533</td>\n",
       "    </tr>\n",
       "    <tr>\n",
       "      <th>10</th>\n",
       "      <td>11</td>\n",
       "      <td>0.957067</td>\n",
       "      <td>0.958833</td>\n",
       "    </tr>\n",
       "    <tr>\n",
       "      <th>11</th>\n",
       "      <td>12</td>\n",
       "      <td>0.956900</td>\n",
       "      <td>0.958933</td>\n",
       "    </tr>\n",
       "    <tr>\n",
       "      <th>12</th>\n",
       "      <td>13</td>\n",
       "      <td>0.956533</td>\n",
       "      <td>0.958667</td>\n",
       "    </tr>\n",
       "    <tr>\n",
       "      <th>13</th>\n",
       "      <td>14</td>\n",
       "      <td>0.956267</td>\n",
       "      <td>0.958533</td>\n",
       "    </tr>\n",
       "    <tr>\n",
       "      <th>14</th>\n",
       "      <td>15</td>\n",
       "      <td>0.956500</td>\n",
       "      <td>0.957800</td>\n",
       "    </tr>\n",
       "    <tr>\n",
       "      <th>15</th>\n",
       "      <td>16</td>\n",
       "      <td>0.955867</td>\n",
       "      <td>0.957733</td>\n",
       "    </tr>\n",
       "    <tr>\n",
       "      <th>16</th>\n",
       "      <td>17</td>\n",
       "      <td>0.956000</td>\n",
       "      <td>0.957700</td>\n",
       "    </tr>\n",
       "    <tr>\n",
       "      <th>17</th>\n",
       "      <td>18</td>\n",
       "      <td>0.955400</td>\n",
       "      <td>0.957300</td>\n",
       "    </tr>\n",
       "    <tr>\n",
       "      <th>18</th>\n",
       "      <td>19</td>\n",
       "      <td>0.955567</td>\n",
       "      <td>0.957367</td>\n",
       "    </tr>\n",
       "    <tr>\n",
       "      <th>19</th>\n",
       "      <td>20</td>\n",
       "      <td>0.955133</td>\n",
       "      <td>0.956967</td>\n",
       "    </tr>\n",
       "  </tbody>\n",
       "</table>\n",
       "</div>"
      ],
      "text/plain": [
       "     k  euclidean  manhattan\n",
       "0    1   0.947767   0.949600\n",
       "1    2   0.947767   0.949600\n",
       "2    3   0.956967   0.958733\n",
       "3    4   0.957767   0.959700\n",
       "4    5   0.957633   0.959633\n",
       "5    6   0.958533   0.960167\n",
       "6    7   0.957600   0.959267\n",
       "7    8   0.958000   0.960233\n",
       "8    9   0.957900   0.959033\n",
       "9   10   0.957800   0.959533\n",
       "10  11   0.957067   0.958833\n",
       "11  12   0.956900   0.958933\n",
       "12  13   0.956533   0.958667\n",
       "13  14   0.956267   0.958533\n",
       "14  15   0.956500   0.957800\n",
       "15  16   0.955867   0.957733\n",
       "16  17   0.956000   0.957700\n",
       "17  18   0.955400   0.957300\n",
       "18  19   0.955567   0.957367\n",
       "19  20   0.955133   0.956967"
      ]
     },
     "execution_count": 37,
     "metadata": {},
     "output_type": "execute_result"
    }
   ],
   "source": [
    "accuracy_join= k_df.join(accuracy_df)\n",
    "accuracy_join"
   ]
  },
  {
   "cell_type": "code",
   "execution_count": 38,
   "metadata": {},
   "outputs": [
    {
     "data": {
      "image/png": "[encoded data removed]",
      "text/plain": [
       "<Figure size 432x288 with 1 Axes>"
      ]
     },
     "metadata": {
      "needs_background": "light"
     },
     "output_type": "display_data"
    }
   ],
   "source": [
    "plt.plot(accuracy_join['k'], accuracy_join['euclidean'], label='euclidean')\n",
    "plt.plot(accuracy_join['k'], accuracy_join['manhattan'], label='manhattan')\n",
    "\n",
    "plt.legend()\n",
    "plt.xlabel('k')\n",
    "plt.ylabel('accuracy score')\n",
    "plt.show()"
   ]
  },
  {
   "cell_type": "markdown",
   "metadata": {},
   "source": [
    "terlihat saat menggunakan metric manhattan dengan nilai k = 8 memperoleh akurasi tertinggi. karena itu digunakan metric manhattan dan nilai k = 8 untuk model"
   ]
  },
  {
   "cell_type": "code",
   "execution_count": 39,
   "metadata": {},
   "outputs": [
    {
     "data": {
      "text/plain": [
       "KNeighborsClassifier(metric='manhattan', n_neighbors=8, weights='distance')"
      ]
     },
     "execution_count": 39,
     "metadata": {},
     "output_type": "execute_result"
    }
   ],
   "source": [
    "knn = KNeighborsClassifier(n_neighbors=8, weights='distance', metric='manhattan')\n",
    "knn.fit(X_train, y_train) # latih"
   ]
  },
  {
   "cell_type": "code",
   "execution_count": 40,
   "metadata": {},
   "outputs": [],
   "source": [
    "# memprediksi\n",
    "y_pred = knn.predict(X_test)"
   ]
  },
  {
   "cell_type": "markdown",
   "metadata": {},
   "source": [
    "## validasi"
   ]
  },
  {
   "cell_type": "code",
   "execution_count": 41,
   "metadata": {},
   "outputs": [
    {
     "data": {
      "text/plain": [
       "0.9602333333333334"
      ]
     },
     "execution_count": 41,
     "metadata": {},
     "output_type": "execute_result"
    }
   ],
   "source": [
    "accuracy_score(y_test, y_pred)"
   ]
  },
  {
   "cell_type": "code",
   "execution_count": 42,
   "metadata": {},
   "outputs": [],
   "source": [
    "cm = confusion_matrix(y_test, y_pred)"
   ]
  },
  {
   "cell_type": "code",
   "execution_count": 43,
   "metadata": {},
   "outputs": [],
   "source": [
    "cm_disp = ConfusionMatrixDisplay(confusion_matrix=cm, display_labels=['galaxy', 'quasar', 'star'])"
   ]
  },
  {
   "cell_type": "code",
   "execution_count": 44,
   "metadata": {},
   "outputs": [
    {
     "data": {
      "text/plain": [
       "<sklearn.metrics._plot.confusion_matrix.ConfusionMatrixDisplay at 0x16b01c620a0>"
      ]
     },
     "execution_count": 44,
     "metadata": {},
     "output_type": "execute_result"
    },
    {
     "data": {
      "image/png": "[encoded data removed]",
      "text/plain": [
       "<Figure size 432x288 with 2 Axes>"
      ]
     },
     "metadata": {
      "needs_background": "light"
     },
     "output_type": "display_data"
    }
   ],
   "source": [
    "cm_disp.plot()"
   ]
  },
  {
   "cell_type": "code",
   "execution_count": 45,
   "metadata": {},
   "outputs": [
    {
     "name": "stdout",
     "output_type": "stream",
     "text": [
      "              precision    recall  f1-score   support\n",
      "\n",
      "         0.0       0.97      0.97      0.97     17809\n",
      "         1.0       0.96      0.92      0.94      5641\n",
      "         2.0       0.94      0.98      0.96      6550\n",
      "\n",
      "    accuracy                           0.96     30000\n",
      "   macro avg       0.96      0.95      0.96     30000\n",
      "weighted avg       0.96      0.96      0.96     30000\n",
      "\n"
     ]
    }
   ],
   "source": [
    "print(classification_report(y_test, y_pred))"
   ]
  }
 ],
 "metadata": {
  "kernelspec": {
   "display_name": "Python 3",
   "language": "python",
   "name": "python3"
  },
  "language_info": {
   "codemirror_mode": {
    "name": "ipython",
    "version": 3
   },
   "file_extension": ".py",
   "mimetype": "text/x-python",
   "name": "python",
   "nbconvert_exporter": "python",
   "pygments_lexer": "ipython3",
   "version": "3.8.5"
  },
  "nbTranslate": {
   "displayLangs": [
    "*"
   ],
   "hotkey": "alt-t",
   "langInMainMenu": true,
   "sourceLang": "en",
   "targetLang": "fr",
   "useGoogleTranslate": true
  },
  "toc": {
   "base_numbering": 1,
   "nav_menu": {},
   "number_sections": true,
   "sideBar": true,
   "skip_h1_title": false,
   "title_cell": "Table of Contents",
   "title_sidebar": "Contents",
   "toc_cell": false,
   "toc_position": {},
   "toc_section_display": true,
   "toc_window_display": false
  }
 },
 "nbformat": 4,
 "nbformat_minor": 4
}
